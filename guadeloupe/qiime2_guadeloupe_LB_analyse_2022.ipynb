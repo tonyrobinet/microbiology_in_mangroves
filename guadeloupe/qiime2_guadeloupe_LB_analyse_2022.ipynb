{
 "cells": [
  {
   "cell_type": "code",
   "execution_count": null,
   "id": "912a023f-f279-4f8d-a34f-e3622118fbb0",
   "metadata": {},
   "outputs": [],
   "source": [
    "## Assignation taxo des reads Nanopore coupés sur le 16S V4V5"
   ]
  },
  {
   "cell_type": "code",
   "execution_count": null,
   "id": "9d3dc8bd-3dbe-4160-9ccf-f5299dde6f07",
   "metadata": {},
   "outputs": [],
   "source": [
    "## d'abord on formate le fasta en format standard (séquences commencent par > et non par @)\n",
    "\n",
    "find /Users/tonyrobinet/Desktop/manip_ONT_Illu/SRR24987387.fasta \\\n",
    "-type f -exec sed -i 's/@/>/g' {} \\;"
   ]
  },
  {
   "cell_type": "code",
   "execution_count": null,
   "id": "92356bdb-9795-4f6a-b767-cedd78886929",
   "metadata": {},
   "outputs": [],
   "source": [
    "NanoFilt ~/manip_ONT_Illu/SRR24987387.fastq \\\n",
    "    -q 10 --length 1400 --maxlength 1600 \\\n",
    "    > ~/manip_ONT_Illu/raw/SRR24987387_1400_1600_q10.fastq"
   ]
  },
  {
   "cell_type": "code",
   "execution_count": null,
   "id": "cc588d50-39a7-477e-97bf-466a194d8ddc",
   "metadata": {},
   "outputs": [],
   "source": [
    "## ensuite on extrait les inserts entre les deux primers\n",
    "cd ~/Desktop/manip_ONT_Illu/\n",
    "\n",
    "cat SRR24987387.fasta \\\n",
    "| seqkit amplicon -F GTGYCAGCMGCCGCGGTAA -R CCGYCAATTYMTTTRAGTTT -r 1:-1 \\\n",
    "> SRR24987387_V4V5.fasta\n"
   ]
  },
  {
   "cell_type": "code",
   "execution_count": null,
   "id": "92248733-b424-4cd8-91b4-bee16d6fdff0",
   "metadata": {},
   "outputs": [],
   "source": [
    "## Vsearch sequences centroïdes à 97%"
   ]
  },
  {
   "cell_type": "code",
   "execution_count": 5,
   "id": "f33e3e18-295a-4dd4-9e0f-c1562973161a",
   "metadata": {},
   "outputs": [
    {
     "name": "stdout",
     "output_type": "stream",
     "text": [
      "SRR24987387.fasta\t\t\tSRR24987387_V4V5_97_otus.fasta\n",
      "SRR24987387.fasta.gz\t\t\tSRR24987387_V4V5_97_otus.txt\n",
      "SRR24987387_V4V5.fasta\t\t\tseqkit_amplicon.txt\n",
      "SRR24987387_V4V5_97_msaout.fasta\n",
      "vsearch v2.27.0_macos_aarch64, 16.0GB RAM, 8 cores\n",
      "https://github.com/torognes/vsearch\n",
      "\n",
      "Reading file SRR24987387_V4V5.fasta 100%  \n",
      "25433941 nt in 62295 seqs, min 320, max 489, avg 408\n",
      "Sorting by abundance 100%\n",
      "Counting k-mers 100% \n",
      "Clustering 100%  \n",
      "Sorting clusters 100%\n",
      "Writing clusters 100% \n",
      "Clusters: 48248 Size min 1, max 605, avg 1.3\n",
      "Singletons: 45257, 72.6% of seqs, 93.8% of clusters\n",
      "Writing OTU table (classic) 100%  \n"
     ]
    }
   ],
   "source": [
    "# cd ~/sync/mangroves/data_sequencages/guadeloupe/manip_ONT_Illu/\n",
    "# des N à la place des atcg en minuscules pour les alignements douteux\n",
    "#   --uc SRR24987387_V4V5_97_clustered.uc \\\n",
    "#   --relabel OTU_ \\\n",
    "#    --strand plus \\\n",
    "#    --sizein \\\n",
    "\n",
    "cd ~/Desktop/manip_ONT_Illu/\n",
    "ls\n",
    "\n",
    "vsearch --cluster_size SRR24987387_V4V5.fasta \\\n",
    "    --threads 8 \\\n",
    "    --id 0.97 \\\n",
    "    --sizeout \\\n",
    "    --fasta_width 0 \\\n",
    "    --qmask soft \\\n",
    "    --centroids SRR24987387_V4V5_97_otus.fasta \\\n",
    "    --otutabout SRR24987387_V4V5_97_otus.txt"
   ]
  },
  {
   "cell_type": "code",
   "execution_count": 22,
   "id": "4deba1a6-19e5-4360-a245-8a65ec7413ec",
   "metadata": {},
   "outputs": [
    {
     "name": "stdout",
     "output_type": "stream",
     "text": [
      "(qiime2-amplicon-2023.9) \n"
     ]
    },
    {
     "ename": "",
     "evalue": "1",
     "output_type": "error",
     "traceback": []
    }
   ],
   "source": [
    "source activate qiime2-amplicon-2023.9"
   ]
  },
  {
   "cell_type": "code",
   "execution_count": 23,
   "id": "4e8f56dc-1a46-473f-b9e0-d30fcfc82e0f",
   "metadata": {},
   "outputs": [
    {
     "name": "stdout",
     "output_type": "stream",
     "text": [
      "(qiime2-amplicon-2023.9) \n",
      "(qiime2-amplicon-2023.9) \n",
      "\u001b[32mImported SRR24987387_V4V5_97_otus.fasta as DNASequencesDirectoryFormat to rep-seqs_SRR24987387_V4V5_97_otus.qza\u001b[0m\n",
      "\u001b[0m(qiime2-amplicon-2023.9) \n"
     ]
    },
    {
     "ename": "",
     "evalue": "1",
     "output_type": "error",
     "traceback": []
    }
   ],
   "source": [
    "cd ~/sync/mangroves/data_sequencages/guadeloupe/manip_ONT_Illu/\n",
    "\n",
    "qiime tools import \\\n",
    "--input-path SRR24987387_V4V5_97_otus.fasta \\\n",
    "--type 'FeatureData[Sequence]' \\\n",
    "--output-path rep-seqs_SRR24987387_V4V5_97_otus.qza"
   ]
  },
  {
   "cell_type": "code",
   "execution_count": 24,
   "id": "d7685d11-7a2e-4445-a13d-78858977981f",
   "metadata": {},
   "outputs": [
    {
     "name": "stdout",
     "output_type": "stream",
     "text": [
      "(qiime2-amplicon-2023.9) \n",
      "(qiime2-amplicon-2023.9) \n",
      "\u001b[32mSaved FeatureData[Taxonomy] to: classification-silva-138_SRR24987387_V4V5_97_otus.qza\u001b[0m\n",
      "\u001b[0m(qiime2-amplicon-2023.9) \n"
     ]
    },
    {
     "ename": "",
     "evalue": "1",
     "output_type": "error",
     "traceback": []
    }
   ],
   "source": [
    "cd ~/sync/mangroves/data_sequencages/guadeloupe/manip_ONT_Illu/\n",
    "\n",
    "qiime feature-classifier classify-sklearn \\\n",
    "   --i-reads rep-seqs_SRR24987387_V4V5_97_otus.qza \\\n",
    "   --i-classifier ~/sync/references_metabarcoding/Silva138.1/silva-138-ssu-nr99-16SV4-515f-926r-classifier.qza \\\n",
    "   --p-n-jobs 6 \\\n",
    "   --o-classification classification-silva-138_SRR24987387_V4V5_97_otus.qza"
   ]
  },
  {
   "cell_type": "code",
   "execution_count": 25,
   "id": "d0ae0662-5285-48ba-8b5c-eb82df047043",
   "metadata": {},
   "outputs": [
    {
     "name": "stdout",
     "output_type": "stream",
     "text": [
      "(qiime2-amplicon-2023.9) \n",
      "\u001b[32mExported classification-silva-138_SRR24987387_V4V5_97_otus.qza as TSVTaxonomyDirectoryFormat to directory ./Silva_138\u001b[0m\n",
      "\u001b[0m(qiime2-amplicon-2023.9) \n"
     ]
    },
    {
     "ename": "",
     "evalue": "1",
     "output_type": "error",
     "traceback": []
    }
   ],
   "source": [
    "# exporter en .biom\n",
    "qiime tools export \\\n",
    "    --input-path classification-silva-138_SRR24987387_V4V5_97_otus.qza \\\n",
    "    --output-path ./Silva_138"
   ]
  }
 ],
 "metadata": {
  "kernelspec": {
   "display_name": "Bash",
   "language": "bash",
   "name": "bash"
  },
  "language_info": {
   "codemirror_mode": "shell",
   "file_extension": ".sh",
   "mimetype": "text/x-sh",
   "name": "bash"
  }
 },
 "nbformat": 4,
 "nbformat_minor": 5
}
