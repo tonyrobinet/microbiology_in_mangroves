{
 "cells": [
  {
   "cell_type": "markdown",
   "metadata": {
    "kernel": "SoS"
   },
   "source": [
    "## Pipeline qiime2 BLAST des OTUs sur amplicons Illumina\n",
    "\n",
    "* importation des données DADA2\n",
    "Séquences illumina avec plusieurs marqueurs par index, ici 16SV4 et ITS2.\n",
    "On débruite et déréplique tout en bloc avec DADA2 sous R car c'est beaucoup plus rapide que DADA2 sous environnement qiime2. Puis on importe la table des séquences uniques de DADA2 en artefacts qiime2.\n",
    "\n",
    "**sous R (DADA2):**\n",
    "write.table(t(seqtab.nochim), \"~/sync/mangroves/data_sequencages/guyane/dada2-analysis/seqtab-nochim.txt\", sep=\"\\t\", row.names=TRUE, col.names=NA, quote=FALSE)\n",
    "\n",
    "uniquesToFasta(seqtab.nochim, \"~/sync/mangroves/data_sequencages/guyane/dada2-analysis/rep-seqs.fna\", ids=colnames(seqtab.nochim))\n",
    "\n",
    "* sous bash, activation environnement conda qiime2"
   ]
  },
  {
   "cell_type": "markdown",
   "metadata": {
    "kernel": "SoS"
   },
   "source": [
    "**Le trimming des amorces (15pb à gauche, 15pb à droite) permet d'accroitre d'environ 30% le nombre de reads filtrés, en diminuant le nombre de chimères**\n",
    "\n",
    "--> sans trimmer les amorces\n",
    "\"input\" \"filtered\" \"denoisedF\" \"denoisedR\" \"merged\" \"nonchim\"\n",
    "\"Blancs\" 24460 6389 5785 5461 3793 2234\n",
    "\"S1D101\" 85622 58201 44011 42027 9794 8924\n",
    "\"S1D102\" 99085 65076 52672 50128 11480 10160\n",
    "\"S1D203\" 64106 46813 37450 36485 10696 9727\n",
    "\"S1D204\" 66110 46613 37775 36016 11683 10316\n",
    "\"S1D205\" 91809 63124 50219 49882 14095 12630\n",
    "\n",
    "\n",
    "--> en trimmant les amorces\n",
    "\"input\" \"filtered\" \"denoisedF\" \"denoisedR\" \"merged\" \"nonchim\"\n",
    "\"Blancs\" 24460 6936 6377 6136 4707 4110\n",
    "\"S1D101\" 85622 61596 52863 54327 14146 13034\n",
    "\"S1D102\" 99085 68605 61354 61952 18091 16729\n",
    "\"S1D203\" 64106 49032 43066 43950 14611 13768\n",
    "\"S1D204\" 66110 48630 42887 43691 15766 14586\n",
    "\"S1D205\" 91809 65849 57067 59604 18494 17002"
   ]
  },
  {
   "cell_type": "markdown",
   "metadata": {
    "kernel": "SoS"
   },
   "source": [
    "* il faut au préalable créer les dossiers /qiime2, /OTU-ITS, /OTU-16S et OTU-16S-taxo\n",
    "* création de l'artefact rep-seqs.qza issu de seqtab.nochim (renommé en rep-seqs.fna sous DADA2/R)"
   ]
  },
  {
   "cell_type": "code",
   "execution_count": null,
   "metadata": {
    "collapsed": true,
    "jupyter": {
     "outputs_hidden": true
    }
   },
   "outputs": [],
   "source": [
    "##########################################################\n",
    "### \n",
    "### script à reprendre avant dépôt\n",
    "### le jeu de données LB + SED mélange les 16S et ITS dans les mêmes sorties\n",
    "### il faut donc les séparer et les traiter séparemment\n",
    "### deplus les chemins ne sont pas les bons"
   ]
  },
  {
   "cell_type": "code",
   "execution_count": 6,
   "metadata": {},
   "outputs": [
    {
     "name": "stdout",
     "output_type": "stream",
     "text": [
      "Welcome 1 times\n",
      "Welcome 2 times\n",
      "Welcome 3 times\n",
      "Welcome 4 times\n",
      "Welcome 5 times\n"
     ]
    }
   ],
   "source": [
    "for i in 1 2 3 4 5\n",
    "do\n",
    "   echo \"Welcome $i times\"\n",
    "done"
   ]
  },
  {
   "cell_type": "code",
   "execution_count": 15,
   "metadata": {
    "scrolled": true
   },
   "outputs": [
    {
     "name": "stdout",
     "output_type": "stream",
     "text": [
      "BLANCEXT_R1_final\n",
      "BLANCEXT_R2_final\n",
      "BLANCPCR_R1_final\n",
      "BLANCPCR_R2_final\n",
      "BT11_R1_final\n",
      "BT11_R2_final\n",
      "BT12_R1_final\n",
      "BT12_R2_final\n",
      "BT13_R1_final\n",
      "BT13_R2_final\n",
      "BT14_R1_final\n",
      "BT14_R2_final\n",
      "BT15_R1_final\n",
      "BT15_R2_final\n",
      "BT21_R1_final\n",
      "BT21_R2_final\n",
      "BT22_R1_final\n",
      "BT22_R2_final\n",
      "BT23_R1_final\n",
      "BT23_R2_final\n",
      "BT24_R1_final\n",
      "BT24_R2_final\n",
      "BT25_R1_final\n",
      "BT25_R2_final\n",
      "DT11_R1_final\n",
      "DT11_R2_final\n",
      "DT12_R1_final\n",
      "DT12_R2_final\n",
      "DT13_R1_final\n",
      "DT13_R2_final\n",
      "DT14_R1_final\n",
      "DT14_R2_final\n",
      "DT15_R1_final\n",
      "DT15_R2_final\n",
      "DT21_R1_final\n",
      "DT21_R2_final\n",
      "DT22_R1_final\n",
      "DT22_R2_final\n",
      "DT23_R1_final\n",
      "DT23_R2_final\n",
      "DT24_R1_final\n",
      "DT24_R2_final\n",
      "DT25_R1_final\n",
      "DT25_R2_final\n",
      "FT0D_R1_final\n",
      "FT0D_R2_final\n",
      "FT0I_R1_final\n",
      "FT0I_R2_final\n",
      "FT11_R1_final\n",
      "FT11_R2_final\n",
      "FT12_R1_final\n",
      "FT12_R2_final\n",
      "FT13_R1_final\n",
      "FT13_R2_final\n",
      "FT14_R1_final\n",
      "FT14_R2_final\n",
      "FT15_R1_final\n",
      "FT15_R2_final\n",
      "GT11_R1_final\n",
      "GT11_R2_final\n",
      "GT12_R1_final\n",
      "GT12_R2_final\n",
      "GT13_R1_final\n",
      "GT13_R2_final\n",
      "GT14_R1_final\n",
      "GT14_R2_final\n",
      "GT15_R1_final\n",
      "GT15_R2_final\n",
      "GT21_R1_final\n",
      "GT21_R2_final\n",
      "GT22_R1_final\n",
      "GT22_R2_final\n",
      "GT23_R1_final\n",
      "GT23_R2_final\n",
      "GT24_R1_final\n",
      "GT24_R2_final\n",
      "GT25_R1_final\n",
      "GT25_R2_final\n",
      "IT11_R1_final\n",
      "IT11_R2_final\n",
      "IT12_R1_final\n",
      "IT12_R2_final\n",
      "IT13_R1_final\n",
      "IT13_R2_final\n",
      "IT14_R1_final\n",
      "IT14_R2_final\n",
      "IT15_R1_final\n",
      "IT15_R2_final\n"
     ]
    }
   ],
   "source": [
    "## Extraction des 18SV9 à partir des fastq\n",
    "## conda deactivate\n",
    "\n",
    "cd /Users/tonyrobinet/Desktop/mangroves_guadeloupe_rawdata/genbank_data_guadeloupe_litterbags\n",
    "for l in $(ls *.fastq.gz)\n",
    "do\n",
    "VAR=${l%.*}\n",
    "echo \"${VAR%.*}\"\n",
    "done"
   ]
  },
  {
   "cell_type": "code",
   "execution_count": 25,
   "metadata": {
    "scrolled": true
   },
   "outputs": [
    {
     "name": "stdout",
     "output_type": "stream",
     "text": [
      "retrieve corresponding FASTQ records by a FASTA file\n",
      "\n",
      "Attention:\n",
      "  1. We assume the FASTA file comes from the FASTQ file,\n",
      "     so they share sequence IDs, and sequences in FASTA\n",
      "     should be subseq of sequences in FASTQ file.\n",
      "\n",
      "Usage:\n",
      "  seqkit fa2fq [flags] \n",
      "\n",
      "Flags:\n",
      "  -f, --fasta-file string      FASTA file)\n",
      "  -h, --help                   help for fa2fq\n",
      "  -P, --only-positive-strand   only search on positive strand\n",
      "\n",
      "Global Flags:\n",
      "      --alphabet-guess-seq-length int   length of sequence prefix of the first FASTA record based on\n",
      "                                        which seqkit guesses the sequence type (0 for whole seq)\n",
      "                                        (default 10000)\n",
      "      --compress-level int              compression level for gzip, zstd, xz and bzip2. type \"seqkit -h\"\n",
      "                                        for the range and default value for each format (default -1)\n",
      "      --id-ncbi                         FASTA head is NCBI-style, e.g. >gi|110645304|ref|NC_002516.2|\n",
      "                                        Pseud...\n",
      "      --id-regexp string                regular expression for parsing ID (default \"^(\\\\S+)\\\\s?\")\n",
      "  -X, --infile-list string              file of input files list (one file per line), if given, they are\n",
      "                                        appended to files from cli arguments\n",
      "  -w, --line-width int                  line width when outputting FASTA format (0 for no wrap) (default 60)\n",
      "  -o, --out-file string                 out file (\"-\" for stdout, suffix .gz for gzipped out) (default \"-\")\n",
      "      --quiet                           be quiet and do not show extra information\n",
      "  -t, --seq-type string                 sequence type (dna|rna|protein|unlimit|auto) (for auto, it\n",
      "                                        automatically detect by the first sequence) (default \"auto\")\n",
      "  -j, --threads int                     number of CPUs. can also set with environment variable\n",
      "                                        SEQKIT_THREADS) (default 4)\n"
     ]
    }
   ],
   "source": [
    "seqkit fa2fq -h"
   ]
  },
  {
   "cell_type": "code",
   "execution_count": null,
   "metadata": {
    "scrolled": true
   },
   "outputs": [],
   "source": [
    "cd /Users/tonyrobinet/Desktop/mangroves_guadeloupe_rawdata/genbank_data_guadeloupe_litterbags\n",
    "\n",
    "for l in $(ls *.fastq.gz)\n",
    "do\n",
    "VAR=${l%.*}\n",
    "echo \"${VAR%.*}\"\n",
    "seqkit fq2fa $VAR.gz -o ${VAR%.*}.fasta\n",
    "cat ${VAR%.*}.fasta | seqkit amplicon -F CCCTGCCHTTTGTACACAC -R CCTTCYGCAGGTTCACCTAC -r 1:-1 > ${VAR%.*}_18SV9.fasta\n",
    "echo \"${VAR%.*} 1\"\n",
    "cat ${VAR%.*}_18SV9.fasta | awk 'NR%4==1' | sed 's/@//' > ids\n",
    "seqkit grep -f ids $l > ${l}_18SV9.fastq.gz\n",
    "echo \"${VAR%.*} 2\"\n",
    "rm ${VAR%.*}.fasta\n",
    "echo \"${VAR%.*} 3\"\n",
    "done"
   ]
  },
  {
   "cell_type": "code",
   "execution_count": 32,
   "metadata": {},
   "outputs": [
    {
     "name": "stdout",
     "output_type": "stream",
     "text": [
      "cat: BLANCEXT_R2_final_18SV9.fasta: No such file or directory\n"
     ]
    }
   ],
   "source": [
    "cat ${VAR%.*}_18SV9.fasta | awk 'NR%4==1' | sed 's/@//'\n"
   ]
  },
  {
   "cell_type": "code",
   "execution_count": 1,
   "metadata": {
    "scrolled": true
   },
   "outputs": [
    {
     "name": "stdout",
     "output_type": "stream",
     "text": [
      "(qiime2-amplicon-2023.9) \n",
      "(qiime2-amplicon-2023.9) \n"
     ]
    },
    {
     "ename": "",
     "evalue": "1",
     "output_type": "error",
     "traceback": []
    }
   ],
   "source": [
    "source activate qiime2-amplicon-2023.9\n",
    "##conda info --envs"
   ]
  },
  {
   "cell_type": "code",
   "execution_count": 9,
   "metadata": {
    "kernel": "SoS",
    "scrolled": true,
    "tags": []
   },
   "outputs": [
    {
     "name": "stdout",
     "output_type": "stream",
     "text": [
      "(qiime2-amplicon-2023.9) \n",
      "(qiime2-amplicon-2023.9) \n",
      "\u001b[32mImported ./dada2/seqtabnochim_guadeloupe_LB_final_mai24_notrim.fna as DNASequencesDirectoryFormat to ./qiime2/rep-seqs_guadeloupe_LB_16S_18S_ITS.qza\u001b[0m\n",
      "\u001b[0m(qiime2-amplicon-2023.9) \n"
     ]
    },
    {
     "ename": "",
     "evalue": "1",
     "output_type": "error",
     "traceback": []
    }
   ],
   "source": [
    "cd ~/sync/mangroves/data_sequencages/guadeloupe/2024\n",
    "\n",
    "qiime tools import \\\n",
    "--input-path ./dada2/seqtabnochim_guadeloupe_LB_final_mai24_notrim.fna \\\n",
    "--type 'FeatureData[Sequence]' \\\n",
    "--output-path ./qiime2/rep-seqs_guadeloupe_LB_16S_18S_ITS.qza"
   ]
  },
  {
   "cell_type": "markdown",
   "metadata": {
    "kernel": "SoS"
   },
   "source": [
    "* création de l'artefact table.qza par biom"
   ]
  },
  {
   "cell_type": "code",
   "execution_count": 11,
   "metadata": {
    "kernel": "SoS"
   },
   "outputs": [
    {
     "name": "stdout",
     "output_type": "stream",
     "text": [
      "(qiime2-amplicon-2023.9) \n",
      "(qiime2-amplicon-2023.9) \n",
      "(qiime2-amplicon-2023.9) \n",
      "(qiime2-amplicon-2023.9) \n",
      "(qiime2-amplicon-2023.9) \n",
      "\u001b[32mImported ./qiime2/table_guadeloupe_LB_16S_18S_ITS.biom as BIOMV210DirFmt to ./qiime2/table_guadeloupe_LB_16S_18S_ITS.qza\u001b[0m\n",
      "\u001b[0m(qiime2-amplicon-2023.9) \n"
     ]
    },
    {
     "ename": "",
     "evalue": "1",
     "output_type": "error",
     "traceback": []
    }
   ],
   "source": [
    "# echo -n \"#OTU Table\" | cat -  > ./biom-table_guyane_all.txt\n",
    "cd ~/sync/mangroves/data_sequencages/guadeloupe/2024\n",
    "\n",
    "biom convert -i ./dada2/seqtabnochim_guadeloupe_LB_final_mai24_notrim.txt -o ./qiime2/table_guadeloupe_LB_16S_18S_ITS.biom --table-type=\"OTU table\" --to-hdf5\n",
    "\n",
    "qiime tools import \\\n",
    "--input-path ./qiime2/table_guadeloupe_LB_16S_18S_ITS.biom \\\n",
    "--type 'FeatureTable[Frequency]' \\\n",
    "--output-path ./qiime2/table_guadeloupe_LB_16S_18S_ITS.qza"
   ]
  },
  {
   "cell_type": "code",
   "execution_count": null,
   "metadata": {
    "collapsed": true,
    "jupyter": {
     "outputs_hidden": true
    }
   },
   "outputs": [],
   "source": [
    "### dans DADA2 on a trimmé 15bp des deux côtés des reads pour diminuer le taux de chimères\n",
    "### du coup on effectue Vsearch et on assigne directement\n",
    "\n",
    "### ou alors on ne trimme rien et on trie par marqueur, avant Vsearch et assignation (mais on perd plus de la moitié des reads)"
   ]
  },
  {
   "cell_type": "code",
   "execution_count": 12,
   "metadata": {},
   "outputs": [
    {
     "name": "stdout",
     "output_type": "stream",
     "text": [
      "(qiime2-amplicon-2023.9) \n",
      "(qiime2-amplicon-2023.9) \n",
      "\u001b[32mSaved FeatureData[Sequence] to: ./OTU-16S/rep-seqs_guadeloupe_LB_16S.qza\u001b[0m\n",
      "\u001b[0m(qiime2-amplicon-2023.9) \n",
      "(qiime2-amplicon-2023.9) \n",
      "\u001b[32mSaved FeatureTable[Frequency] to: ./OTU-16S/table_guadeloupe_LB_16S.qza\u001b[0m\n",
      "\u001b[0m(qiime2-amplicon-2023.9) \n"
     ]
    },
    {
     "ename": "",
     "evalue": "1",
     "output_type": "error",
     "traceback": []
    }
   ],
   "source": [
    "cd ~/sync/mangroves/data_sequencages/guadeloupe/2024/qiime2\n",
    "\n",
    "qiime feature-classifier extract-reads \\\n",
    "  --i-sequences rep-seqs_guadeloupe_LB_16S_18S_ITS.qza \\\n",
    "  --p-f-primer GTGYCAGCMGCCGCGGTAA \\\n",
    "  --p-r-primer CCGYCAATTYMTTTRAGTTT \\\n",
    "  --p-identity 0.7 \\\n",
    "  --p-n-jobs 6 \\\n",
    "  --o-reads ./OTU-16S/rep-seqs_guadeloupe_LB_16S.qza\n",
    "  \n",
    "qiime feature-table filter-features \\\n",
    "  --i-table table_guadeloupe_LB_16S_18S_ITS.qza \\\n",
    "  --m-metadata-file ./OTU-16S/rep-seqs_guadeloupe_LB_16S.qza \\\n",
    "  --o-filtered-table ./OTU-16S/table_guadeloupe_LB_16S.qza"
   ]
  },
  {
   "cell_type": "code",
   "execution_count": 14,
   "metadata": {},
   "outputs": [
    {
     "name": "stdout",
     "output_type": "stream",
     "text": [
      "(qiime2-amplicon-2023.9) \n",
      "(qiime2-amplicon-2023.9) \n",
      "\u001b[32mSaved FeatureData[Sequence] to: ./OTU-18S/rep-seqs_guadeloupe_LB_18S.qza\u001b[0m\n",
      "\u001b[0m(qiime2-amplicon-2023.9) \n",
      "(qiime2-amplicon-2023.9) \n",
      "\u001b[32mSaved FeatureTable[Frequency] to: ./OTU-18S/table_guadeloupe_LB_18S.qza\u001b[0m\n",
      "\u001b[0m(qiime2-amplicon-2023.9) \n"
     ]
    },
    {
     "ename": "",
     "evalue": "1",
     "output_type": "error",
     "traceback": []
    }
   ],
   "source": [
    "cd ~/sync/mangroves/data_sequencages/guadeloupe/2024/qiime2\n",
    "\n",
    "qiime feature-classifier extract-reads \\\n",
    "  --i-sequences rep-seqs_guadeloupe_LB_16S_18S_ITS.qza \\\n",
    "  --p-f-primer CCCTGCCHTTTGTACACAC \\\n",
    "  --p-r-primer CCTTCYGCAGGTTCACCTAC \\\n",
    "  --p-identity 0.7 \\\n",
    "  --p-n-jobs 6 \\\n",
    "  --o-reads ./OTU-18S/rep-seqs_guadeloupe_LB_18S.qza\n",
    "  \n",
    "qiime feature-table filter-features \\\n",
    "  --i-table table_guadeloupe_LB_16S_18S_ITS.qza \\\n",
    "  --m-metadata-file ./OTU-18S/rep-seqs_guadeloupe_LB_18S.qza \\\n",
    "  --o-filtered-table ./OTU-18S/table_guadeloupe_LB_18S.qza"
   ]
  },
  {
   "cell_type": "code",
   "execution_count": 15,
   "metadata": {},
   "outputs": [
    {
     "name": "stdout",
     "output_type": "stream",
     "text": [
      "(qiime2-amplicon-2023.9) \n",
      "(qiime2-amplicon-2023.9) \n",
      "\u001b[32mSaved FeatureData[Sequence] to: ./OTU-ITS/rep-seqs_guadeloupe_LB_ITS.qza\u001b[0m\n",
      "\u001b[0m(qiime2-amplicon-2023.9) \n",
      "(qiime2-amplicon-2023.9) \n",
      "\u001b[32mSaved FeatureTable[Frequency] to: ./OTU-ITS/table_guadeloupe_LB_ITS.qza\u001b[0m\n",
      "\u001b[0m(qiime2-amplicon-2023.9) \n"
     ]
    },
    {
     "ename": "",
     "evalue": "1",
     "output_type": "error",
     "traceback": []
    }
   ],
   "source": [
    "cd ~/sync/mangroves/data_sequencages/guadeloupe/2024/qiime2\n",
    "\n",
    "qiime feature-classifier extract-reads \\\n",
    "  --i-sequences rep-seqs_guadeloupe_LB_16S_18S_ITS.qza \\\n",
    "  --p-f-primer GTGAATCATCGAATCTTTGAA \\\n",
    "  --p-r-primer TCCTCCGCTTATTGATATGC \\\n",
    "  --p-identity 0.9 \\\n",
    "  --p-n-jobs 6 \\\n",
    "  --o-reads ./OTU-ITS/rep-seqs_guadeloupe_LB_ITS.qza\n",
    "  \n",
    "qiime feature-table filter-features \\\n",
    "  --i-table table_guadeloupe_LB_16S_18S_ITS.qza \\\n",
    "  --m-metadata-file ./OTU-ITS/rep-seqs_guadeloupe_LB_ITS.qza \\\n",
    "  --o-filtered-table ./OTU-ITS/table_guadeloupe_LB_ITS.qza"
   ]
  },
  {
   "cell_type": "markdown",
   "metadata": {
    "kernel": "SoS"
   },
   "source": [
    "* VSEARCH produit la table des OTUs (<3%), pour chaque marqueur"
   ]
  },
  {
   "cell_type": "code",
   "execution_count": 5,
   "metadata": {
    "kernel": "SoS"
   },
   "outputs": [
    {
     "name": "stdout",
     "output_type": "stream",
     "text": [
      "(qiime2-amplicon-2023.9) \n",
      "(qiime2-amplicon-2023.9) \n",
      "vsearch v2.22.1_macos_x86_64, 16.0GB RAM, 8 cores\n",
      "https://github.com/torognes/vsearch\n",
      "\n",
      "Reading file rep-seqs_guadeloupe_LB_16S.fasta 100%  \n",
      "2794338 nt in 7519 seqs, min 166, max 432, avg 372\n",
      "Sorting by abundance 100%\n",
      "Counting k-mers 100% \n",
      "Clustering 100%  \n",
      "Sorting clusters 100%\n",
      "Writing clusters 100% \n",
      "Clusters: 3551 Size min 1, max 73, avg 2.1\n",
      "Singletons: 2561, 34.1% of seqs, 72.1% of clusters\n",
      "Writing OTU table (classic) 100%  \n",
      "(qiime2-amplicon-2023.9) \n",
      "(qiime2-amplicon-2023.9) \n",
      "\u001b[32mImported rep-seqs-97_guadeloupe_LB_16S.fasta as DNASequencesDirectoryFormat to rep-seqs-97_guadeloupe_LB_16S.qza\u001b[0m\n",
      "\u001b[0m(qiime2-amplicon-2023.9) \n",
      "(qiime2-amplicon-2023.9) \n",
      "\u001b[32mSaved FeatureTable[Frequency] to: table-97_guadeloupe_LB_16S.qza\u001b[0m\n",
      "\u001b[0m(qiime2-amplicon-2023.9) \n"
     ]
    },
    {
     "ename": "",
     "evalue": "1",
     "output_type": "error",
     "traceback": []
    }
   ],
   "source": [
    "## pour obtenir le fasta il faut ouvrir le rep-seqs_XXX.qza avec un utilitaire d'archives\n",
    "## extraire le fasta du dossier data\n",
    "## et le renommer en rep-seqs_XXX.fasta\n",
    "\n",
    "cd ~/sync/mangroves/data_sequencages/guadeloupe/2024/qiime2/OTU-16S/\n",
    "\n",
    "vsearch --cluster_size rep-seqs_guadeloupe_LB_16S.fasta \\\n",
    "    --threads 8 \\\n",
    "    --id 0.97 \\\n",
    "    --sizeout \\\n",
    "    --fasta_width 0 \\\n",
    "    --qmask soft \\\n",
    "    --centroids rep-seqs-97_guadeloupe_LB_16S.fasta \\\n",
    "    --otutabout rep-seqs-97_guadeloupe_LB_16S.txt\n",
    "\n",
    "qiime tools import \\\n",
    "--input-path rep-seqs-97_guadeloupe_LB_16S.fasta \\\n",
    "--type 'FeatureData[Sequence]' \\\n",
    "--output-path rep-seqs-97_guadeloupe_LB_16S.qza\n",
    "\n",
    "qiime feature-table filter-features \\\n",
    "  --i-table table_guadeloupe_LB_16S.qza \\\n",
    "  --m-metadata-file rep-seqs-97_guadeloupe_LB_16S.qza \\\n",
    "  --o-filtered-table table-97_guadeloupe_LB_16S.qza"
   ]
  },
  {
   "cell_type": "code",
   "execution_count": 6,
   "metadata": {
    "kernel": "SoS"
   },
   "outputs": [
    {
     "name": "stdout",
     "output_type": "stream",
     "text": [
      "(qiime2-amplicon-2023.9) \n",
      "(qiime2-amplicon-2023.9) \n",
      "vsearch v2.22.1_macos_x86_64, 16.0GB RAM, 8 cores\n",
      "https://github.com/torognes/vsearch\n",
      "\n",
      "Reading file rep-seqs_guadeloupe_LB_18S.fasta 100%  \n",
      "358 nt in 2 seqs, min 171, max 187, avg 179\n",
      "Sorting by abundance 100%\n",
      "Counting k-mers 100% \n",
      "Clustering 100%  \n",
      "Sorting clusters 100%\n",
      "Writing clusters 100% \n",
      "Clusters: 2 Size min 1, max 1, avg 1.0\n",
      "Singletons: 2, 100.0% of seqs, 100.0% of clusters\n",
      "Writing OTU table (classic) 100%  \n",
      "(qiime2-amplicon-2023.9) \n",
      "(qiime2-amplicon-2023.9) \n",
      "\u001b[32mImported rep-seqs-97_guadeloupe_LB_18S.fasta as DNASequencesDirectoryFormat to rep-seqs-97_guadeloupe_LB_18S.qza\u001b[0m\n",
      "\u001b[0m(qiime2-amplicon-2023.9) \n",
      "(qiime2-amplicon-2023.9) \n",
      "\u001b[32mSaved FeatureTable[Frequency] to: table-97_guadeloupe_LB_18S.qza\u001b[0m\n",
      "\u001b[0m(qiime2-amplicon-2023.9) \n"
     ]
    },
    {
     "ename": "",
     "evalue": "1",
     "output_type": "error",
     "traceback": []
    }
   ],
   "source": [
    "## d'abord extraire le fasta comme indiqué cellulle plus haut\n",
    "cd ~/sync/mangroves/data_sequencages/guadeloupe/2024/qiime2/OTU-18S/\n",
    "\n",
    "vsearch --cluster_size rep-seqs_guadeloupe_LB_18S.fasta \\\n",
    "    --threads 8 \\\n",
    "    --id 0.97 \\\n",
    "    --sizeout \\\n",
    "    --fasta_width 0 \\\n",
    "    --qmask soft \\\n",
    "    --centroids rep-seqs-97_guadeloupe_LB_18S.fasta \\\n",
    "    --otutabout rep-seqs-97_guadeloupe_LB_18S.txt\n",
    "\n",
    "qiime tools import \\\n",
    "--input-path rep-seqs-97_guadeloupe_LB_18S.fasta \\\n",
    "--type 'FeatureData[Sequence]' \\\n",
    "--output-path rep-seqs-97_guadeloupe_LB_18S.qza\n",
    "\n",
    "qiime feature-table filter-features \\\n",
    "  --i-table table_guadeloupe_LB_18S.qza \\\n",
    "  --m-metadata-file rep-seqs-97_guadeloupe_LB_18S.qza \\\n",
    "  --o-filtered-table table-97_guadeloupe_LB_18S.qza"
   ]
  },
  {
   "cell_type": "code",
   "execution_count": 7,
   "metadata": {
    "kernel": "SoS"
   },
   "outputs": [
    {
     "name": "stdout",
     "output_type": "stream",
     "text": [
      "(qiime2-amplicon-2023.9) \n",
      "(qiime2-amplicon-2023.9) \n",
      "(qiime2-amplicon-2023.9) \n",
      "vsearch v2.22.1_macos_x86_64, 16.0GB RAM, 8 cores\n",
      "https://github.com/torognes/vsearch\n",
      "\n",
      "Reading file rep-seqs_guadeloupe_LB_ITS.fasta 100%  \n",
      "139539 nt in 516 seqs, min 169, max 414, avg 270\n",
      "Sorting by abundance 100%\n",
      "Counting k-mers 100% \n",
      "Clustering 100%  \n",
      "Sorting clusters 100%\n",
      "Writing clusters 100% \n",
      "Clusters: 225 Size min 1, max 26, avg 2.3\n",
      "Singletons: 116, 22.5% of seqs, 51.6% of clusters\n",
      "Writing OTU table (classic) 100%  \n",
      "(qiime2-amplicon-2023.9) \n",
      "(qiime2-amplicon-2023.9) \n",
      "\u001b[32mImported rep-seqs-97_guadeloupe_LB_ITS.fasta as DNASequencesDirectoryFormat to rep-seqs-97_guadeloupe_LB_ITS.qza\u001b[0m\n",
      "\u001b[0m(qiime2-amplicon-2023.9) \n",
      "(qiime2-amplicon-2023.9) \n",
      "\u001b[32mSaved FeatureTable[Frequency] to: table-97_guadeloupe_LB_ITS.qza\u001b[0m\n",
      "\u001b[0m(qiime2-amplicon-2023.9) \n"
     ]
    },
    {
     "ename": "",
     "evalue": "1",
     "output_type": "error",
     "traceback": []
    }
   ],
   "source": [
    "## d'abord extraire le fasta comme indiqué cellulle plus haut\n",
    "cd ~/sync/mangroves/data_sequencages/guadeloupe/2024/qiime2/OTU-ITS/\n",
    "\n",
    "vsearch --cluster_size rep-seqs_guadeloupe_LB_ITS.fasta \\\n",
    "    --threads 8 \\\n",
    "    --id 0.97 \\\n",
    "    --sizeout \\\n",
    "    --fasta_width 0 \\\n",
    "    --qmask soft \\\n",
    "    --centroids rep-seqs-97_guadeloupe_LB_ITS.fasta \\\n",
    "    --otutabout rep-seqs-97_guadeloupe_LB_ITS.txt\n",
    "\n",
    "qiime tools import \\\n",
    "--input-path rep-seqs-97_guadeloupe_LB_ITS.fasta \\\n",
    "--type 'FeatureData[Sequence]' \\\n",
    "--output-path rep-seqs-97_guadeloupe_LB_ITS.qza\n",
    "\n",
    "qiime feature-table filter-features \\\n",
    "  --i-table table_guadeloupe_LB_ITS.qza \\\n",
    "  --m-metadata-file rep-seqs-97_guadeloupe_LB_ITS.qza \\\n",
    "  --o-filtered-table table-97_guadeloupe_LB_ITS.qza"
   ]
  },
  {
   "cell_type": "markdown",
   "metadata": {
    "kernel": "SoS"
   },
   "source": [
    "* exporter les tables d'OTUs"
   ]
  },
  {
   "cell_type": "code",
   "execution_count": 9,
   "metadata": {
    "kernel": "SoS",
    "tags": []
   },
   "outputs": [
    {
     "name": "stdout",
     "output_type": "stream",
     "text": [
      "(qiime2-amplicon-2023.9) \n",
      "(qiime2-amplicon-2023.9) \n",
      "\u001b[32mExported ./OTU-16S/table-97_guadeloupe_LB_16S.qza as BIOMV210DirFmt to directory ./OTU-16S\u001b[0m\n",
      "\u001b[0m(qiime2-amplicon-2023.9) \n",
      "(qiime2-amplicon-2023.9) \n",
      "Traceback (most recent call last):\n",
      "  File \"/opt/miniconda3/envs/qiime2-amplicon-2023.9/bin/biom\", line 11, in <module>\n",
      "    sys.exit(cli())\n",
      "  File \"/opt/miniconda3/envs/qiime2-amplicon-2023.9/lib/python3.8/site-packages/click/core.py\", line 1157, in __call__\n",
      "    return self.main(*args, **kwargs)\n",
      "  File \"/opt/miniconda3/envs/qiime2-amplicon-2023.9/lib/python3.8/site-packages/click/core.py\", line 1078, in main\n",
      "    rv = self.invoke(ctx)\n",
      "  File \"/opt/miniconda3/envs/qiime2-amplicon-2023.9/lib/python3.8/site-packages/click/core.py\", line 1688, in invoke\n",
      "    return _process_result(sub_ctx.command.invoke(sub_ctx))\n",
      "  File \"/opt/miniconda3/envs/qiime2-amplicon-2023.9/lib/python3.8/site-packages/click/core.py\", line 1434, in invoke\n",
      "    return ctx.invoke(self.callback, **ctx.params)\n",
      "  File \"/opt/miniconda3/envs/qiime2-amplicon-2023.9/lib/python3.8/site-packages/click/core.py\", line 783, in invoke\n",
      "    return __callback(*args, **kwargs)\n",
      "  File \"/opt/miniconda3/envs/qiime2-amplicon-2023.9/lib/python3.8/site-packages/biom/cli/table_converter.py\", line 125, in convert\n",
      "    _convert(table, output_fp, sample_metadata_f, observation_metadata_f,\n",
      "  File \"/opt/miniconda3/envs/qiime2-amplicon-2023.9/lib/python3.8/site-packages/biom/cli/table_converter.py\", line 182, in _convert\n",
      "    result = table.to_tsv(header_key=header_key,\n",
      "  File \"/opt/miniconda3/envs/qiime2-amplicon-2023.9/lib/python3.8/site-packages/biom/table.py\", line 5251, in to_tsv\n",
      "    return self.delimited_self('\\t', header_key, header_value,\n",
      "  File \"/opt/miniconda3/envs/qiime2-amplicon-2023.9/lib/python3.8/site-packages/biom/table.py\", line 1696, in delimited_self\n",
      "    raise TableException(\"Cannot delimit self if I don't have data...\")\n",
      "biom.exception.TableException: Cannot delimit self if I don't have data...\n",
      "(qiime2-amplicon-2023.9) \n",
      "(qiime2-amplicon-2023.9) \n",
      "(qiime2-amplicon-2023.9) \n",
      "\u001b[32mExported ./OTU-18S/table-97_guadeloupe_LB_18S.qza as BIOMV210DirFmt to directory ./OTU-18S\u001b[0m\n",
      "\u001b[0m(qiime2-amplicon-2023.9) \n",
      "(qiime2-amplicon-2023.9) \n",
      "Traceback (most recent call last):\n",
      "  File \"/opt/miniconda3/envs/qiime2-amplicon-2023.9/bin/biom\", line 11, in <module>\n",
      "    sys.exit(cli())\n",
      "  File \"/opt/miniconda3/envs/qiime2-amplicon-2023.9/lib/python3.8/site-packages/click/core.py\", line 1157, in __call__\n",
      "    return self.main(*args, **kwargs)\n",
      "  File \"/opt/miniconda3/envs/qiime2-amplicon-2023.9/lib/python3.8/site-packages/click/core.py\", line 1078, in main\n",
      "    rv = self.invoke(ctx)\n",
      "  File \"/opt/miniconda3/envs/qiime2-amplicon-2023.9/lib/python3.8/site-packages/click/core.py\", line 1688, in invoke\n",
      "    return _process_result(sub_ctx.command.invoke(sub_ctx))\n",
      "  File \"/opt/miniconda3/envs/qiime2-amplicon-2023.9/lib/python3.8/site-packages/click/core.py\", line 1434, in invoke\n",
      "    return ctx.invoke(self.callback, **ctx.params)\n",
      "  File \"/opt/miniconda3/envs/qiime2-amplicon-2023.9/lib/python3.8/site-packages/click/core.py\", line 783, in invoke\n",
      "    return __callback(*args, **kwargs)\n",
      "  File \"/opt/miniconda3/envs/qiime2-amplicon-2023.9/lib/python3.8/site-packages/biom/cli/table_converter.py\", line 125, in convert\n",
      "    _convert(table, output_fp, sample_metadata_f, observation_metadata_f,\n",
      "  File \"/opt/miniconda3/envs/qiime2-amplicon-2023.9/lib/python3.8/site-packages/biom/cli/table_converter.py\", line 182, in _convert\n",
      "    result = table.to_tsv(header_key=header_key,\n",
      "  File \"/opt/miniconda3/envs/qiime2-amplicon-2023.9/lib/python3.8/site-packages/biom/table.py\", line 5251, in to_tsv\n",
      "    return self.delimited_self('\\t', header_key, header_value,\n",
      "  File \"/opt/miniconda3/envs/qiime2-amplicon-2023.9/lib/python3.8/site-packages/biom/table.py\", line 1696, in delimited_self\n",
      "    raise TableException(\"Cannot delimit self if I don't have data...\")\n",
      "biom.exception.TableException: Cannot delimit self if I don't have data...\n",
      "(qiime2-amplicon-2023.9) \n",
      "(qiime2-amplicon-2023.9) \n",
      "\u001b[32mExported ./OTU-ITS/table-97_guadeloupe_LB_ITS.qza as BIOMV210DirFmt to directory ./OTU-ITS\u001b[0m\n",
      "\u001b[0m(qiime2-amplicon-2023.9) \n",
      "(qiime2-amplicon-2023.9) \n",
      "Traceback (most recent call last):\n",
      "  File \"/opt/miniconda3/envs/qiime2-amplicon-2023.9/bin/biom\", line 11, in <module>\n",
      "    sys.exit(cli())\n",
      "  File \"/opt/miniconda3/envs/qiime2-amplicon-2023.9/lib/python3.8/site-packages/click/core.py\", line 1157, in __call__\n",
      "    return self.main(*args, **kwargs)\n",
      "  File \"/opt/miniconda3/envs/qiime2-amplicon-2023.9/lib/python3.8/site-packages/click/core.py\", line 1078, in main\n",
      "    rv = self.invoke(ctx)\n",
      "  File \"/opt/miniconda3/envs/qiime2-amplicon-2023.9/lib/python3.8/site-packages/click/core.py\", line 1688, in invoke\n",
      "    return _process_result(sub_ctx.command.invoke(sub_ctx))\n",
      "  File \"/opt/miniconda3/envs/qiime2-amplicon-2023.9/lib/python3.8/site-packages/click/core.py\", line 1434, in invoke\n",
      "    return ctx.invoke(self.callback, **ctx.params)\n",
      "  File \"/opt/miniconda3/envs/qiime2-amplicon-2023.9/lib/python3.8/site-packages/click/core.py\", line 783, in invoke\n",
      "    return __callback(*args, **kwargs)\n",
      "  File \"/opt/miniconda3/envs/qiime2-amplicon-2023.9/lib/python3.8/site-packages/biom/cli/table_converter.py\", line 125, in convert\n",
      "    _convert(table, output_fp, sample_metadata_f, observation_metadata_f,\n",
      "  File \"/opt/miniconda3/envs/qiime2-amplicon-2023.9/lib/python3.8/site-packages/biom/cli/table_converter.py\", line 182, in _convert\n",
      "    result = table.to_tsv(header_key=header_key,\n",
      "  File \"/opt/miniconda3/envs/qiime2-amplicon-2023.9/lib/python3.8/site-packages/biom/table.py\", line 5251, in to_tsv\n",
      "    return self.delimited_self('\\t', header_key, header_value,\n",
      "  File \"/opt/miniconda3/envs/qiime2-amplicon-2023.9/lib/python3.8/site-packages/biom/table.py\", line 1696, in delimited_self\n",
      "    raise TableException(\"Cannot delimit self if I don't have data...\")\n",
      "biom.exception.TableException: Cannot delimit self if I don't have data...\n",
      "(qiime2-amplicon-2023.9) \n",
      "(qiime2-amplicon-2023.9) \n",
      "(qiime2-amplicon-2023.9) \n",
      "(qiime2-amplicon-2023.9) \n"
     ]
    },
    {
     "ename": "",
     "evalue": "1",
     "output_type": "error",
     "traceback": []
    }
   ],
   "source": [
    "cd ~/sync/mangroves/data_sequencages/guadeloupe/2024/qiime2\n",
    "\n",
    "qiime tools export \\\n",
    "    --input-path ./OTU-16S/table-97_guadeloupe_LB_16S.qza \\\n",
    "    --output-path ./OTU-16S\n",
    "    \n",
    "biom convert \\\n",
    "    -i ./OTU-16S/feature-table.biom \\\n",
    "    -o ./OTU-16S/feature-table-97_guadeloupe_LB_16S.tsv --to-tsv\n",
    "\n",
    "\n",
    "qiime tools export \\\n",
    "    --input-path ./OTU-18S/table-97_guadeloupe_LB_18S.qza \\\n",
    "    --output-path ./OTU-18S\n",
    "    \n",
    "biom convert \\\n",
    "    -i ./OTU-18S/feature-table.biom \\\n",
    "    -o ./OTU-18S/feature-table-97_guadeloupe_LB_18S.tsv --to-tsv\n",
    "\n",
    "qiime tools export \\\n",
    "    --input-path ./OTU-ITS/table-97_guadeloupe_LB_ITS.qza \\\n",
    "    --output-path ./OTU-ITS\n",
    "    \n",
    "biom convert \\\n",
    "    -i ./OTU-ITS/feature-table.biom \\\n",
    "    -o ./OTU-ITS/feature-table-97_guadeloupe_LB_ITS.tsv --to-tsv\n",
    "\n",
    "# ouvrir le .tsv avec LibreOffice Calc, sélectionner les abondances, Edition>Find and Replace,\n",
    "# chercher ^[0-9] et remplacer par & (cocher \"regular expressions\")"
   ]
  },
  {
   "cell_type": "markdown",
   "metadata": {
    "kernel": "SoS"
   },
   "source": [
    "* feature-classifier BLAST\n",
    "* de préférence sur un cluster / un calculateur"
   ]
  },
  {
   "cell_type": "code",
   "execution_count": 4,
   "metadata": {},
   "outputs": [
    {
     "name": "stdout",
     "output_type": "stream",
     "text": [
      "(qiime2-amplicon-2023.9) \n",
      "(qiime2-amplicon-2023.9) \n",
      "(qiime2-amplicon-2023.9) \n",
      "(qiime2-amplicon-2023.9) \n",
      "(qiime2-amplicon-2023.9) \n",
      "(qiime2-amplicon-2023.9) \n",
      "(qiime2-amplicon-2023.9) \n",
      "\u001b[32mImported ./sh_refs_qiime_ver10_97_s_all_04.04.2024.fasta as DNASequencesDirectoryFormat to ./sh_refs_qiime_ver10_97_s_all_04.04.2024.qza\u001b[0m\n",
      "\u001b[0m(qiime2-amplicon-2023.9) \n",
      "(qiime2-amplicon-2023.9) \n",
      "\u001b[32mImported ./sh_taxonomy_qiime_ver10_97_s_all_04.04.2024.txt as TSVTaxonomyDirectoryFormat to ./sh_taxonomy_qiime_ver10_97_s_all_04.04.2024.qza\u001b[0m\n",
      "\u001b[0m(qiime2-amplicon-2023.9) \n",
      "(qiime2-amplicon-2023.9) \n",
      "(qiime2-amplicon-2023.9) \n"
     ]
    },
    {
     "ename": "",
     "evalue": "1",
     "output_type": "error",
     "traceback": []
    }
   ],
   "source": [
    "#########################\n",
    "## UNITE\n",
    "## import de la base en artefact .qza\n",
    "## source activate qiime2-amplicon-2023.9\n",
    "cd /Volumes/BOUGREDANE/references_metabarcoding/ITS2/sh_qiime_release_s_all_04.04.2024\n",
    "#mkdir ./qiime\n",
    "\n",
    "qiime tools import \\\n",
    "  --type FeatureData[Sequence] \\\n",
    "  --input-path ./sh_refs_qiime_ver10_97_s_all_04.04.2024.fasta \\\n",
    "  --output-path ./sh_refs_qiime_ver10_97_s_all_04.04.2024.qza\n",
    "  \n",
    "qiime tools import \\\n",
    "  --type FeatureData[Taxonomy] \\\n",
    "  --input-path ./sh_taxonomy_qiime_ver10_97_s_all_04.04.2024.txt \\\n",
    "  --output-path ./sh_taxonomy_qiime_ver10_97_s_all_04.04.2024.qza\n",
    "  \n",
    "  #  --input-format HeaderlessTSVTaxonomyFormat \\"
   ]
  },
  {
   "cell_type": "code",
   "execution_count": 11,
   "metadata": {},
   "outputs": [
    {
     "name": "stdout",
     "output_type": "stream",
     "text": [
      "(qiime2-amplicon-2023.9) \n",
      "(qiime2-amplicon-2023.9) \n",
      "(qiime2-amplicon-2023.9) \n",
      "(qiime2-amplicon-2023.9) \n",
      "(qiime2-amplicon-2023.9) \n",
      "(qiime2-amplicon-2023.9) \n",
      "(qiime2-amplicon-2023.9) \n",
      "\u001b[32mSaved FeatureData[Taxonomy] to: ./Unite10/guadeloupe_LB_ITS_Unite_ver10_97_s_all_04.04.2024.qza\u001b[0m\n",
      "\u001b[32mSaved FeatureData[BLAST6] to: ./Unite10/top_hits_guadeloupe_LB_ITS_Unite_ver10_97_s_all_04.04.2024.qza\u001b[0m\n",
      "\u001b[0m(qiime2-amplicon-2023.9) \n",
      "(qiime2-amplicon-2023.9) \n",
      "(qiime2-amplicon-2023.9) \n",
      "\u001b[32mExported ./Unite10/guadeloupe_LB_ITS_Unite_ver10_97_s_all_04.04.2024.qza as TSVTaxonomyDirectoryFormat to directory ./Unite10\u001b[0m\n",
      "\u001b[0m(qiime2-amplicon-2023.9) \n"
     ]
    },
    {
     "ename": "",
     "evalue": "1",
     "output_type": "error",
     "traceback": []
    }
   ],
   "source": [
    "####################################\n",
    "### ITS2 : Unite\n",
    "## source activate qiime2-amplicon-2023.9\n",
    "## mkdir ./Unite10\n",
    "\n",
    "cd ~/sync/mangroves/data_sequencages/guadeloupe/2024/qiime2/OTU-ITS\n",
    "\n",
    "qiime feature-classifier classify-consensus-blast \\\n",
    "    --i-query ./rep-seqs-97_guadeloupe_LB_ITS.qza \\\n",
    "    --i-reference-reads /Users/tonyrobinet/sync/references_metabarcoding/ITS2/sh_refs_qiime_ver10_97_s_all_04.04.2024.qza \\\n",
    "    --i-reference-taxonomy /Users/tonyrobinet/sync/references_metabarcoding/ITS2/sh_taxonomy_qiime_ver10_97_s_all_04.04.2024.qza \\\n",
    "    --o-classification ./Unite10/guadeloupe_LB_ITS_Unite_ver10_97_s_all_04.04.2024.qza \\\n",
    "    --o-search-results ./Unite10/top_hits_guadeloupe_LB_ITS_Unite_ver10_97_s_all_04.04.2024.qza\n",
    "\n",
    "# exporter en .biom\n",
    "qiime tools export \\\n",
    "    --input-path ./Unite10/guadeloupe_LB_ITS_Unite_ver10_97_s_all_04.04.2024.qza \\\n",
    "    --output-path ./Unite10\n"
   ]
  },
  {
   "cell_type": "code",
   "execution_count": 21,
   "metadata": {},
   "outputs": [
    {
     "name": "stdout",
     "output_type": "stream",
     "text": [
      "(qiime2-shotgun-2023.9) \n",
      "(qiime2-shotgun-2023.9) \n",
      "(qiime2-shotgun-2023.9) \n",
      "(qiime2-shotgun-2023.9) \n",
      "\u001b[31m\u001b[1mThere was an issue with merging QIIME 2 Metadata:\n",
      "\n",
      "  Cannot merge because there are no IDs shared across metadata objects.\u001b[0m\n",
      "\n",
      "\u001b[0m(qiime2-shotgun-2023.9) \n",
      "(qiime2-shotgun-2023.9) \n",
      "Usage: \u001b[94mqiime tools export\u001b[0m [OPTIONS]\n",
      "\n",
      "  Exporting extracts (and optionally transforms) data stored inside an\n",
      "  Artifact or Visualization. Note that Visualizations cannot be transformed\n",
      "  with --output-format\n",
      "\n",
      "\u001b[1mOptions\u001b[0m:\n",
      "  \u001b[94m\u001b[4m--input-path\u001b[0m ARTIFACT/VISUALIZATION\n",
      "                        Path to file that should be exported        \u001b[35m[required]\u001b[0m\n",
      "  \u001b[94m\u001b[4m--output-path\u001b[0m PATH    Path to file or directory where data should be\n",
      "                        exported to                                 \u001b[35m[required]\u001b[0m\n",
      "  \u001b[94m--output-format\u001b[0m TEXT  Format which the data should be exported as. This\n",
      "                        option cannot be used with Visualizations\n",
      "  \u001b[94m--help\u001b[0m                Show this message and exit.\n",
      "\n",
      "\u001b[33m                    There was a problem with the command:                     \u001b[0m\n",
      "\u001b[31m\u001b[1m (1/1) Invalid value for '--input-path': File 'merged.qzv' does not exist.\u001b[0m\n",
      "(qiime2-shotgun-2023.9) \n"
     ]
    },
    {
     "ename": "",
     "evalue": "1",
     "output_type": "error",
     "traceback": []
    }
   ],
   "source": [
    "conda deactivate\n",
    "source activate qiime2-shotgun-2023.9\n",
    "cd ~/sync/mangroves/data_sequencages/guadeloupe/2024/qiime2/OTU-ITS\n",
    "\n",
    "qiime metadata tabulate \\\n",
    "--m-input-file rep-seqs-97_guadeloupe_LB_ITS.qza \\\n",
    "--m-input-file table_97_guadeloupe_LB_ITS.qza \\\n",
    "--m-input-file Unite10/guadeloupe_LB_ITS_Unite_ver10_97_s_all_04.04.2024.qza \\\n",
    "--o-visualization merged.qzv\n",
    "\n",
    "qiime tools export \\\n",
    "  --input-path merged.qzv \\\n",
    "  --output-path merged-data"
   ]
  },
  {
   "cell_type": "code",
   "execution_count": 16,
   "metadata": {
    "kernel": "SoS"
   },
   "outputs": [
    {
     "name": "stdout",
     "output_type": "stream",
     "text": [
      "(qiime2-amplicon-2023.9) \n",
      "(qiime2-amplicon-2023.9) \n",
      "(qiime2-amplicon-2023.9) \n",
      "(qiime2-amplicon-2023.9) \n",
      "(qiime2-amplicon-2023.9) \n",
      "(qiime2-amplicon-2023.9) \n",
      "\u001b[32mSaved FeatureData[Taxonomy] to: ./OTU-18S-taxo/classification.qza\u001b[0m\n",
      "\u001b[0m(qiime2-amplicon-2023.9) \n",
      "(qiime2-amplicon-2023.9) \n",
      "(qiime2-amplicon-2023.9) \n",
      "\u001b[32mExported ./OTU-18S-taxo/classification.qza as TSVTaxonomyDirectoryFormat to directory ./OTU-18S-taxo\u001b[0m\n",
      "\u001b[0m(qiime2-amplicon-2023.9) \n"
     ]
    },
    {
     "ename": "",
     "evalue": "1",
     "output_type": "error",
     "traceback": []
    }
   ],
   "source": [
    "# BLAST+ 18S\n",
    "# on aura préalablement entraîné le classifieur sur les amorces 18SV9 à partir de la base Silva 138.1\n",
    "# voir le script classifier_rescript_18SV9.ipynb\n",
    "\n",
    "cd ~/sync/mangroves/data_sequencages/guadeloupe/2024/qiime2/OTU-18S\n",
    "\n",
    "qiime feature-classifier classify-sklearn \\\n",
    "   --i-reads ./rep-seqs-97_guadeloupe_LB_18S.qza \\\n",
    "   --i-classifier /Users/tonyrobinet/sync/references_metabarcoding/Silva138.1/silva-138.1-ssu-nr99-18SV9-classifier.qza \\\n",
    "   --p-n-jobs -1 \\\n",
    "   --output-dir ./OTU-18S-taxo\n",
    "\n",
    "# exporter en .biom\n",
    "qiime tools export \\\n",
    "    --input-path ./OTU-18S-taxo/classification.qza \\\n",
    "    --output-path ./OTU-18S-taxo"
   ]
  },
  {
   "cell_type": "markdown",
   "metadata": {
    "kernel": "SoS"
   },
   "source": [
    "** On a ainsi créé, par marqueur :\n",
    "- un tableau des OTUs à 3% (séquences et abondances des reads après filtres qualités) [feature-table_guyane_ITS2.tsv]\n",
    "- un tableau des assignations taxonomiques des OTUs [taxonomy.tsv]"
   ]
  }
 ],
 "metadata": {
  "kernelspec": {
   "display_name": "Bash",
   "language": "bash",
   "name": "bash"
  },
  "language_info": {
   "codemirror_mode": "shell",
   "file_extension": ".sh",
   "mimetype": "text/x-sh",
   "name": "bash"
  },
  "sos": {
   "kernels": [],
   "panel": {
    "displayed": true,
    "height": 0
   },
   "version": "0.21.12"
  }
 },
 "nbformat": 4,
 "nbformat_minor": 4
}
