{
 "cells": [
  {
   "cell_type": "markdown",
   "metadata": {
    "kernel": "SoS"
   },
   "source": [
    "## Pipeline qiime2 BLAST des OTUs sur amplicons Illumina\n",
    "\n",
    "* importation des données DADA2\n",
    "Séquences illumina avec plusieurs marqueurs par index, ici 16SV4 et ITS2.\n",
    "On débruite et déréplique tout en bloc avec DADA2 sous R car c'est beaucoup plus rapide que DADA2 sous environnement qiime2. Puis on importe la table des séquences uniques de DADA2 en artefacts qiime2.\n",
    "\n",
    "**sous R (DADA2):**\n",
    "write.table(t(seqtab.nochim), \"~/sync/mangroves/data_sequencages/guyane/dada2-analysis/seqtab-nochim.txt\", sep=\"\\t\", row.names=TRUE, col.names=NA, quote=FALSE)\n",
    "\n",
    "uniquesToFasta(seqtab.nochim, \"~/sync/mangroves/data_sequencages/guyane/dada2-analysis/rep-seqs.fna\", ids=colnames(seqtab.nochim))\n",
    "\n",
    "* sous bash, activation environnement conda qiime2"
   ]
  },
  {
   "cell_type": "markdown",
   "metadata": {
    "kernel": "SoS"
   },
   "source": [
    "**Le trimming des amorces (15pb à gauche, 15pb à droite) permet d'accroitre d'environ 30% le nombre de reads filtrés, en diminuant le nombre de chimères**\n",
    "\n",
    "--> sans trimmer les amorces\n",
    "\"input\" \"filtered\" \"denoisedF\" \"denoisedR\" \"merged\" \"nonchim\"\n",
    "\"Blancs\" 24460 6389 5785 5461 3793 2234\n",
    "\"S1D101\" 85622 58201 44011 42027 9794 8924\n",
    "\"S1D102\" 99085 65076 52672 50128 11480 10160\n",
    "\"S1D203\" 64106 46813 37450 36485 10696 9727\n",
    "\"S1D204\" 66110 46613 37775 36016 11683 10316\n",
    "\"S1D205\" 91809 63124 50219 49882 14095 12630\n",
    "\n",
    "\n",
    "--> en trimmant les amorces\n",
    "\"input\" \"filtered\" \"denoisedF\" \"denoisedR\" \"merged\" \"nonchim\"\n",
    "\"Blancs\" 24460 6936 6377 6136 4707 4110\n",
    "\"S1D101\" 85622 61596 52863 54327 14146 13034\n",
    "\"S1D102\" 99085 68605 61354 61952 18091 16729\n",
    "\"S1D203\" 64106 49032 43066 43950 14611 13768\n",
    "\"S1D204\" 66110 48630 42887 43691 15766 14586\n",
    "\"S1D205\" 91809 65849 57067 59604 18494 17002"
   ]
  },
  {
   "cell_type": "markdown",
   "metadata": {
    "kernel": "SoS"
   },
   "source": [
    "* il faut au préalable créer les dossiers /qiime2, /OTU-ITS, /OTU-16S et OTU-16S-taxo\n",
    "* création de l'artefact rep-seqs.qza issu de seqtab.nochim (renommé en rep-seqs.fna sous DADA2/R)"
   ]
  },
  {
   "cell_type": "code",
   "execution_count": null,
   "metadata": {
    "scrolled": true
   },
   "outputs": [],
   "source": [
    "source activate qiime2-amplicon-2023.9\n",
    "##conda info --envs"
   ]
  },
  {
   "cell_type": "code",
   "execution_count": null,
   "metadata": {
    "kernel": "SoS",
    "scrolled": true,
    "tags": []
   },
   "outputs": [],
   "source": [
    "cd ~/sync/mangroves/data_sequencages/guadeloupe/2024\n",
    "\n",
    "qiime tools import \\\n",
    "--input-path ./dada2/seqtabnochim_guadeloupe_LB_final_mai24_notrim.fna \\\n",
    "--type 'FeatureData[Sequence]' \\\n",
    "--output-path ./qiime2/rep-seqs_guadeloupe_LB_16S_18S_ITS.qza"
   ]
  },
  {
   "cell_type": "markdown",
   "metadata": {
    "kernel": "SoS"
   },
   "source": [
    "* création de l'artefact table.qza par biom"
   ]
  },
  {
   "cell_type": "code",
   "execution_count": null,
   "metadata": {
    "kernel": "SoS"
   },
   "outputs": [],
   "source": [
    "# echo -n \"#OTU Table\" | cat -  > ./biom-table_guyane_all.txt\n",
    "cd ~/sync/mangroves/data_sequencages/guadeloupe/2024\n",
    "\n",
    "biom convert -i ./dada2/seqtabnochim_guadeloupe_LB_final_mai24_notrim.txt -o ./qiime2/table_guadeloupe_LB_16S_18S_ITS.biom --table-type=\"OTU table\" --to-hdf5\n",
    "\n",
    "qiime tools import \\\n",
    "--input-path ./qiime2/table_guadeloupe_LB_16S_18S_ITS.biom \\\n",
    "--type 'FeatureTable[Frequency]' \\\n",
    "--output-path ./qiime2/table_guadeloupe_LB_16S_18S_ITS.qza"
   ]
  },
  {
   "cell_type": "code",
   "execution_count": null,
   "metadata": {},
   "outputs": [],
   "source": [
    "### dans DADA2 on a trimmé 15bp des deux côtés des reads pour diminuer le taux de chimères\n",
    "### du coup on effectue Vsearch et on assigne directement\n",
    "\n",
    "### ou alors on ne trimme rien et on trie par marqueur, avant Vsearch et assignation (mais on perd plus de la moitié des reads)"
   ]
  },
  {
   "cell_type": "code",
   "execution_count": null,
   "metadata": {},
   "outputs": [],
   "source": [
    "cd ~/sync/mangroves/data_sequencages/guadeloupe/2024/qiime2\n",
    "\n",
    "qiime feature-classifier extract-reads \\\n",
    "  --i-sequences rep-seqs_guadeloupe_LB_16S_18S_ITS.qza \\\n",
    "  --p-f-primer GTGYCAGCMGCCGCGGTAA \\\n",
    "  --p-r-primer CCGYCAATTYMTTTRAGTTT \\\n",
    "  --p-identity 0.7 \\\n",
    "  --p-n-jobs 6 \\\n",
    "  --o-reads ./OTU-16S/rep-seqs_guadeloupe_LB_16S.qza\n",
    "  \n",
    "qiime feature-table filter-features \\\n",
    "  --i-table table_guadeloupe_LB_16S_18S_ITS.qza \\\n",
    "  --m-metadata-file ./OTU-16S/rep-seqs_guadeloupe_LB_16S.qza \\\n",
    "  --o-filtered-table ./OTU-16S/table_guadeloupe_LB_16S.qza"
   ]
  },
  {
   "cell_type": "code",
   "execution_count": null,
   "metadata": {},
   "outputs": [],
   "source": [
    "cd ~/sync/mangroves/data_sequencages/guadeloupe/2024/qiime2\n",
    "\n",
    "qiime feature-classifier extract-reads \\\n",
    "  --i-sequences rep-seqs_guadeloupe_LB_16S_18S_ITS.qza \\\n",
    "  --p-f-primer CCCTGCCHTTTGTACACAC \\\n",
    "  --p-r-primer CCTTCYGCAGGTTCACCTAC \\\n",
    "  --p-identity 0.7 \\\n",
    "  --p-n-jobs 6 \\\n",
    "  --o-reads ./OTU-18S/rep-seqs_guadeloupe_LB_18S.qza\n",
    "  \n",
    "qiime feature-table filter-features \\\n",
    "  --i-table table_guadeloupe_LB_16S_18S_ITS.qza \\\n",
    "  --m-metadata-file ./OTU-18S/rep-seqs_guadeloupe_LB_18S.qza \\\n",
    "  --o-filtered-table ./OTU-18S/table_guadeloupe_LB_18S.qza"
   ]
  },
  {
   "cell_type": "code",
   "execution_count": null,
   "metadata": {},
   "outputs": [],
   "source": [
    "cd ~/sync/mangroves/data_sequencages/guadeloupe/2024/qiime2\n",
    "\n",
    "qiime feature-classifier extract-reads \\\n",
    "  --i-sequences rep-seqs_guadeloupe_LB_16S_18S_ITS.qza \\\n",
    "  --p-f-primer GTGAATCATCGAATCTTTGAA \\\n",
    "  --p-r-primer TCCTCCGCTTATTGATATGC \\\n",
    "  --p-identity 0.9 \\\n",
    "  --p-n-jobs 6 \\\n",
    "  --o-reads ./OTU-ITS/rep-seqs_guadeloupe_LB_ITS.qza\n",
    "  \n",
    "qiime feature-table filter-features \\\n",
    "  --i-table table_guadeloupe_LB_16S_18S_ITS.qza \\\n",
    "  --m-metadata-file ./OTU-ITS/rep-seqs_guadeloupe_LB_ITS.qza \\\n",
    "  --o-filtered-table ./OTU-ITS/table_guadeloupe_LB_ITS.qza"
   ]
  },
  {
   "cell_type": "markdown",
   "metadata": {
    "kernel": "SoS"
   },
   "source": [
    "* VSEARCH produit la table des OTUs (<3%), pour chaque marqueur"
   ]
  },
  {
   "cell_type": "code",
   "execution_count": null,
   "metadata": {
    "kernel": "SoS"
   },
   "outputs": [],
   "source": [
    "## pour obtenir le fasta il faut ouvrir le rep-seqs_XXX.qza avec un utilitaire d'archives\n",
    "## extraire le fasta du dossier data\n",
    "## et le renommer en rep-seqs_XXX.fasta\n",
    "\n",
    "cd ~/sync/mangroves/data_sequencages/guadeloupe/2024/qiime2/OTU-16S/\n",
    "\n",
    "vsearch --cluster_size rep-seqs_guadeloupe_LB_16S.fasta \\\n",
    "    --threads 8 \\\n",
    "    --id 0.97 \\\n",
    "    --sizeout \\\n",
    "    --fasta_width 0 \\\n",
    "    --qmask soft \\\n",
    "    --centroids rep-seqs-97_guadeloupe_LB_16S.fasta \\\n",
    "    --otutabout rep-seqs-97_guadeloupe_LB_16S.txt\n",
    "\n",
    "qiime tools import \\\n",
    "--input-path rep-seqs-97_guadeloupe_LB_16S.fasta \\\n",
    "--type 'FeatureData[Sequence]' \\\n",
    "--output-path rep-seqs-97_guadeloupe_LB_16S.qza\n",
    "\n",
    "qiime feature-table filter-features \\\n",
    "  --i-table table_guadeloupe_LB_16S.qza \\\n",
    "  --m-metadata-file rep-seqs-97_guadeloupe_LB_16S.qza \\\n",
    "  --o-filtered-table table-97_guadeloupe_LB_16S.qza"
   ]
  },
  {
   "cell_type": "code",
   "execution_count": null,
   "metadata": {
    "kernel": "SoS"
   },
   "outputs": [],
   "source": [
    "## d'abord extraire le fasta comme indiqué cellulle plus haut\n",
    "cd ~/sync/mangroves/data_sequencages/guadeloupe/2024/qiime2/OTU-18S/\n",
    "\n",
    "vsearch --cluster_size rep-seqs_guadeloupe_LB_18S.fasta \\\n",
    "    --threads 8 \\\n",
    "    --id 0.97 \\\n",
    "    --sizeout \\\n",
    "    --fasta_width 0 \\\n",
    "    --qmask soft \\\n",
    "    --centroids rep-seqs-97_guadeloupe_LB_18S.fasta \\\n",
    "    --otutabout rep-seqs-97_guadeloupe_LB_18S.txt\n",
    "\n",
    "qiime tools import \\\n",
    "--input-path rep-seqs-97_guadeloupe_LB_18S.fasta \\\n",
    "--type 'FeatureData[Sequence]' \\\n",
    "--output-path rep-seqs-97_guadeloupe_LB_18S.qza\n",
    "\n",
    "qiime feature-table filter-features \\\n",
    "  --i-table table_guadeloupe_LB_18S.qza \\\n",
    "  --m-metadata-file rep-seqs-97_guadeloupe_LB_18S.qza \\\n",
    "  --o-filtered-table table-97_guadeloupe_LB_18S.qza"
   ]
  },
  {
   "cell_type": "code",
   "execution_count": null,
   "metadata": {
    "kernel": "SoS"
   },
   "outputs": [],
   "source": [
    "## d'abord extraire le fasta comme indiqué cellulle plus haut\n",
    "cd ~/sync/mangroves/data_sequencages/guadeloupe/2024/qiime2/OTU-ITS/\n",
    "\n",
    "vsearch --cluster_size rep-seqs_guadeloupe_LB_ITS.fasta \\\n",
    "    --threads 8 \\\n",
    "    --id 0.97 \\\n",
    "    --sizeout \\\n",
    "    --fasta_width 0 \\\n",
    "    --qmask soft \\\n",
    "    --centroids rep-seqs-97_guadeloupe_LB_ITS.fasta \\\n",
    "    --otutabout rep-seqs-97_guadeloupe_LB_ITS.txt\n",
    "\n",
    "qiime tools import \\\n",
    "--input-path rep-seqs-97_guadeloupe_LB_ITS.fasta \\\n",
    "--type 'FeatureData[Sequence]' \\\n",
    "--output-path rep-seqs-97_guadeloupe_LB_ITS.qza\n",
    "\n",
    "qiime feature-table filter-features \\\n",
    "  --i-table table_guadeloupe_LB_ITS.qza \\\n",
    "  --m-metadata-file rep-seqs-97_guadeloupe_LB_ITS.qza \\\n",
    "  --o-filtered-table table-97_guadeloupe_LB_ITS.qza"
   ]
  },
  {
   "cell_type": "markdown",
   "metadata": {
    "kernel": "SoS"
   },
   "source": [
    "* exporter les tables d'OTUs"
   ]
  },
  {
   "cell_type": "code",
   "execution_count": null,
   "metadata": {
    "kernel": "SoS",
    "tags": []
   },
   "outputs": [],
   "source": [
    "cd ~/sync/mangroves/data_sequencages/guadeloupe/2024/qiime2\n",
    "\n",
    "qiime tools export \\\n",
    "    --input-path ./OTU-16S/table-97_guadeloupe_LB_16S.qza \\\n",
    "    --output-path ./OTU-16S\n",
    "    \n",
    "biom convert \\\n",
    "    -i ./OTU-16S/feature-table.biom \\\n",
    "    -o ./OTU-16S/feature-table-97_guadeloupe_LB_16S.tsv --to-tsv\n",
    "\n",
    "\n",
    "qiime tools export \\\n",
    "    --input-path ./OTU-18S/table-97_guadeloupe_LB_18S.qza \\\n",
    "    --output-path ./OTU-18S\n",
    "    \n",
    "biom convert \\\n",
    "    -i ./OTU-18S/feature-table.biom \\\n",
    "    -o ./OTU-18S/feature-table-97_guadeloupe_LB_18S.tsv --to-tsv\n",
    "\n",
    "qiime tools export \\\n",
    "    --input-path ./OTU-ITS/table-97_guadeloupe_LB_ITS.qza \\\n",
    "    --output-path ./OTU-ITS\n",
    "    \n",
    "biom convert \\\n",
    "    -i ./OTU-ITS/feature-table.biom \\\n",
    "    -o ./OTU-ITS/feature-table-97_guadeloupe_LB_ITS.tsv --to-tsv\n",
    "\n",
    "# ouvrir le .tsv avec LibreOffice Calc, sélectionner les abondances, Edition>Find and Replace,\n",
    "# chercher ^[0-9] et remplacer par & (cocher \"regular expressions\")"
   ]
  },
  {
   "cell_type": "code",
   "execution_count": null,
   "metadata": {
    "scrolled": true
   },
   "outputs": [],
   "source": [
    "cd ~/sync/mangroves/data_sequencages/guadeloupe/2024/qiime2\n",
    "\n",
    "qiime tools export \\\n",
    "    --input-path ./OTU-ITS/table-97_guadeloupe_LB_ITS.qza \\\n",
    "    --output-path ./OTU-ITS\n",
    "    \n",
    "biom convert \\\n",
    "    -i ./OTU-ITS/feature-table.biom \\\n",
    "    -o ./OTU-ITS/feature-table-97_guadeloupe_LB_ITS.tsv --to-tsv"
   ]
  },
  {
   "cell_type": "markdown",
   "metadata": {
    "kernel": "SoS"
   },
   "source": [
    "* feature-classifier BLAST\n",
    "* de préférence sur un cluster / un calculateur"
   ]
  },
  {
   "cell_type": "code",
   "execution_count": null,
   "metadata": {},
   "outputs": [],
   "source": [
    "#########################\n",
    "## UNITE\n",
    "## import de la base en artefact .qza\n",
    "## source activate qiime2-amplicon-2023.9\n",
    "cd /Volumes/BOUGREDANE/references_metabarcoding/ITS2/sh_qiime_release_s_all_04.04.2024\n",
    "#mkdir ./qiime\n",
    "\n",
    "qiime tools import \\\n",
    "  --type FeatureData[Sequence] \\\n",
    "  --input-path ./sh_refs_qiime_ver10_97_s_all_04.04.2024.fasta \\\n",
    "  --output-path ./sh_refs_qiime_ver10_97_s_all_04.04.2024.qza\n",
    "  \n",
    "qiime tools import \\\n",
    "  --type FeatureData[Taxonomy] \\\n",
    "  --input-path ./sh_taxonomy_qiime_ver10_97_s_all_04.04.2024.txt \\\n",
    "  --output-path ./sh_taxonomy_qiime_ver10_97_s_all_04.04.2024.qza\n",
    "  \n",
    "  #  --input-format HeaderlessTSVTaxonomyFormat \\"
   ]
  },
  {
   "cell_type": "code",
   "execution_count": null,
   "metadata": {},
   "outputs": [],
   "source": [
    "####################################\n",
    "### ITS2 : Unite\n",
    "## source activate qiime2-amplicon-2023.9\n",
    "## mkdir ./Unite10\n",
    "\n",
    "cd ~/sync/mangroves/data_sequencages/guadeloupe/2024/qiime2/OTU-ITS\n",
    "\n",
    "qiime feature-classifier classify-consensus-blast \\\n",
    "    --i-query ./rep-seqs-97_guadeloupe_LB_ITS.qza \\\n",
    "    --i-reference-reads /Users/tonyrobinet/sync/references_metabarcoding/ITS2/sh_refs_qiime_ver10_97_s_all_04.04.2024.qza \\\n",
    "    --i-reference-taxonomy /Users/tonyrobinet/sync/references_metabarcoding/ITS2/sh_taxonomy_qiime_ver10_97_s_all_04.04.2024.qza \\\n",
    "    --o-classification ./Unite10/guadeloupe_LB_ITS_Unite_ver10_97_s_all_04.04.2024.qza \\\n",
    "    --o-search-results ./Unite10/top_hits_guadeloupe_LB_ITS_Unite_ver10_97_s_all_04.04.2024.qza\n",
    "\n",
    "# exporter en .biom\n",
    "qiime tools export \\\n",
    "    --input-path ./Unite10/guadeloupe_LB_ITS_Unite_ver10_97_s_all_04.04.2024.qza \\\n",
    "    --output-path ./Unite10\n"
   ]
  },
  {
   "cell_type": "code",
   "execution_count": null,
   "metadata": {},
   "outputs": [],
   "source": [
    "conda deactivate\n",
    "source activate qiime2-shotgun-2023.9\n",
    "cd ~/sync/mangroves/data_sequencages/guadeloupe/2024/qiime2/OTU-ITS\n",
    "\n",
    "qiime metadata tabulate \\\n",
    "--m-input-file rep-seqs-97_guadeloupe_LB_ITS.qza \\\n",
    "--m-input-file table_97_guadeloupe_LB_ITS.qza \\\n",
    "--m-input-file Unite10/guadeloupe_LB_ITS_Unite_ver10_97_s_all_04.04.2024.qza \\\n",
    "--o-visualization merged.qzv\n",
    "\n",
    "qiime tools export \\\n",
    "  --input-path merged.qzv \\\n",
    "  --output-path merged-data"
   ]
  },
  {
   "cell_type": "code",
   "execution_count": null,
   "metadata": {
    "kernel": "SoS"
   },
   "outputs": [],
   "source": [
    "# BLAST+ 18S\n",
    "# on aura préalablement entraîné le classifieur sur les amorces 18SV9 à partir de la base Silva 138.1\n",
    "# voir le script classifier_rescript_18SV9.ipynb\n",
    "\n",
    "cd ~/sync/mangroves/data_sequencages/guadeloupe/2024/qiime2/OTU-18S\n",
    "\n",
    "qiime feature-classifier classify-sklearn \\\n",
    "   --i-reads ./rep-seqs-97_guadeloupe_LB_18S.qza \\\n",
    "   --i-classifier /Users/tonyrobinet/sync/references_metabarcoding/Silva138.1/silva-138.1-ssu-nr99-18SV9-classifier.qza \\\n",
    "   --p-n-jobs -1 \\\n",
    "   --output-dir ./OTU-18S-taxo\n",
    "\n",
    "# exporter en .biom\n",
    "qiime tools export \\\n",
    "    --input-path ./OTU-18S-taxo/classification.qza \\\n",
    "    --output-path ./OTU-18S-taxo"
   ]
  },
  {
   "cell_type": "markdown",
   "metadata": {
    "kernel": "SoS"
   },
   "source": [
    "** On a ainsi créé, par marqueur :\n",
    "- un tableau des OTUs à 3% (séquences et abondances des reads après filtres qualités) [feature-table_guyane_ITS2.tsv]\n",
    "- un tableau des assignations taxonomiques des OTUs [taxonomy.tsv]"
   ]
  }
 ],
 "metadata": {
  "kernelspec": {
   "display_name": "Bash",
   "language": "bash",
   "name": "bash"
  },
  "language_info": {
   "codemirror_mode": "shell",
   "file_extension": ".sh",
   "mimetype": "text/x-sh",
   "name": "bash"
  },
  "sos": {
   "kernels": [],
   "panel": {
    "displayed": true,
    "height": 0
   },
   "version": "0.21.12"
  }
 },
 "nbformat": 4,
 "nbformat_minor": 4
}
